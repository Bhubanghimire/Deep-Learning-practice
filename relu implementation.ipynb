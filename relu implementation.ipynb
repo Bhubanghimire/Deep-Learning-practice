{
 "cells": [
  {
   "cell_type": "code",
   "execution_count": 4,
   "id": "bffc8757-ebf3-491e-86db-5632a17ca007",
   "metadata": {},
   "outputs": [],
   "source": [
    "import numpy as np"
   ]
  },
  {
   "cell_type": "code",
   "execution_count": 81,
   "id": "d5f843e1-9fc7-4386-98c7-68616c9207ab",
   "metadata": {},
   "outputs": [],
   "source": [
    "#relu(x) is max(x,0)\n",
    "def my_relu(y):\n",
    "    for i in range(y.shape[0]):\n",
    "        for j in range(y.shape[1]):\n",
    "            print(y[i][j], y[i,j])\n",
    "            y[i][j] = max(0, y[i][j])\n",
    "    return y"
   ]
  },
  {
   "cell_type": "code",
   "execution_count": 83,
   "id": "77b66a0d-0d7f-46cd-b46b-2b0f634baad5",
   "metadata": {},
   "outputs": [],
   "source": [
    "y = np.array([[-3.2,7.8,2,34,0],\n",
    "             [5,8,-99,0,-2.3],\n",
    "             [7,0,-5.234,36,2.4]])"
   ]
  },
  {
   "cell_type": "code",
   "execution_count": 85,
   "id": "22b124a1-38d3-4d9b-bfc5-195fad4e0247",
   "metadata": {},
   "outputs": [
    {
     "data": {
      "text/plain": [
       "array([[ -3.2  ,   7.8  ,   2.   ,  34.   ,   0.   ],\n",
       "       [  5.   ,   8.   , -99.   ,   0.   ,  -2.3  ],\n",
       "       [  7.   ,   0.   ,  -5.234,  36.   ,   2.4  ]])"
      ]
     },
     "execution_count": 85,
     "metadata": {},
     "output_type": "execute_result"
    }
   ],
   "source": [
    "y\n"
   ]
  },
  {
   "cell_type": "code",
   "execution_count": 87,
   "id": "c0a9ea56-9cbb-402b-9618-65de56a67439",
   "metadata": {},
   "outputs": [
    {
     "name": "stdout",
     "output_type": "stream",
     "text": [
      "-3.2 -3.2\n",
      "7.8 7.8\n",
      "2.0 2.0\n",
      "34.0 34.0\n",
      "0.0 0.0\n",
      "5.0 5.0\n",
      "8.0 8.0\n",
      "-99.0 -99.0\n",
      "0.0 0.0\n",
      "-2.3 -2.3\n",
      "7.0 7.0\n",
      "0.0 0.0\n",
      "-5.234 -5.234\n",
      "36.0 36.0\n",
      "2.4 2.4\n"
     ]
    }
   ],
   "source": [
    "z=my_relu(y)"
   ]
  },
  {
   "cell_type": "code",
   "execution_count": 89,
   "id": "92e942b6-b83f-473d-a5a2-0e112409cf40",
   "metadata": {},
   "outputs": [
    {
     "data": {
      "text/plain": [
       "array([[ 0. ,  7.8,  2. , 34. ,  0. ],\n",
       "       [ 5. ,  8. ,  0. ,  0. ,  0. ],\n",
       "       [ 7. ,  0. ,  0. , 36. ,  2.4]])"
      ]
     },
     "execution_count": 89,
     "metadata": {},
     "output_type": "execute_result"
    }
   ],
   "source": [
    "z"
   ]
  },
  {
   "cell_type": "code",
   "execution_count": null,
   "id": "d05ee54a-d860-4cdc-b38d-c3ff6ccdfead",
   "metadata": {},
   "outputs": [],
   "source": []
  },
  {
   "cell_type": "code",
   "execution_count": null,
   "id": "78f15321-b154-40a5-b1ad-43576fda5e8d",
   "metadata": {},
   "outputs": [],
   "source": []
  }
 ],
 "metadata": {
  "kernelspec": {
   "display_name": "Python 3 (ipykernel)",
   "language": "python",
   "name": "python3"
  },
  "language_info": {
   "codemirror_mode": {
    "name": "ipython",
    "version": 3
   },
   "file_extension": ".py",
   "mimetype": "text/x-python",
   "name": "python",
   "nbconvert_exporter": "python",
   "pygments_lexer": "ipython3",
   "version": "3.11.7"
  }
 },
 "nbformat": 4,
 "nbformat_minor": 5
}
