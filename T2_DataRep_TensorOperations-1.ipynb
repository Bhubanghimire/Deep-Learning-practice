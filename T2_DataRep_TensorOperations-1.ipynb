{
 "cells": [
  {
   "cell_type": "markdown",
   "metadata": {},
   "source": [
    "# Data Representation"
   ]
  },
  {
   "cell_type": "markdown",
   "metadata": {},
   "source": [
    "## Tensors\n",
    "- A tensor is a container for numerical data. So, container for numbers\n",
    "- e.g. Matrices --> 2D tensors\n",
    "- Tensors are a generalization of matrices to any arbitrary number of dimensions\n",
    "- Within Tensor terminology, a dimension is referred an axis\n"
   ]
  },
  {
   "cell_type": "markdown",
   "metadata": {},
   "source": [
    "### Scalars\n",
    "- A tensor that contains only one number -->  scalar  (i.e. 0 dim or 0D tensor)\n",
    "- float32 or float64 (for Numpy) --> Scalar tensor (or scalar array)\n",
    "- using ndim attribute --> show number of axes \n",
    "- scalar tensor has 0 axes (ndim = 0)\n",
    "- Rank --> the number of axes of a tensor\n"
   ]
  },
  {
   "cell_type": "code",
   "execution_count": null,
   "metadata": {},
   "outputs": [],
   "source": [
    "#import numpy\n",
    "import numpy as np"
   ]
  },
  {
   "cell_type": "code",
   "execution_count": null,
   "metadata": {},
   "outputs": [],
   "source": [
    "x = np.array(104)"
   ]
  },
  {
   "cell_type": "code",
   "execution_count": null,
   "metadata": {},
   "outputs": [],
   "source": [
    "x"
   ]
  },
  {
   "cell_type": "code",
   "execution_count": null,
   "metadata": {},
   "outputs": [],
   "source": [
    "x.ndim"
   ]
  },
  {
   "cell_type": "markdown",
   "metadata": {},
   "source": [
    "### Vectors\n",
    "- An array of numbers --> called a vector, or 1D tensor \n",
    "- A 1D tensor have exactly one axis"
   ]
  },
  {
   "cell_type": "code",
   "execution_count": null,
   "metadata": {},
   "outputs": [],
   "source": [
    "x = np.array([10, 34, 68, 904, 5])"
   ]
  },
  {
   "cell_type": "code",
   "execution_count": 7,
   "metadata": {},
   "outputs": [
    {
     "data": {
      "text/plain": [
       "array([ 10,  34,  68, 904,   5])"
      ]
     },
     "execution_count": 7,
     "metadata": {},
     "output_type": "execute_result"
    }
   ],
   "source": [
    "x"
   ]
  },
  {
   "cell_type": "code",
   "execution_count": 8,
   "metadata": {},
   "outputs": [
    {
     "data": {
      "text/plain": [
       "1"
      ]
     },
     "execution_count": 8,
     "metadata": {},
     "output_type": "execute_result"
    }
   ],
   "source": [
    "x.ndim"
   ]
  },
  {
   "cell_type": "markdown",
   "metadata": {},
   "source": [
    "#### About Vectors\n",
    "- The vector has five entries (--> 5 dimensional vector)\n",
    "- 5D Vector vs 5D Tensor\n",
    " - a 5D vector has only one axis and has five dimensions along its axis \n",
    " - a 5D tensor has five axes (and may have any number of dimensions along each axis). \n",
    " \n",
    " ##### Confusing !\n",
    "  - Dimensionality can denote either the number of entries along a specific axis (as in the case 5D vector)  \n",
    "  OR  \n",
    "  - the number of axes in a tensor (such as a 5D tensor)\n",
    "  \n",
    "  ##### Use of Rank\n",
    "   - Rank --> the number of axes of a tensor\n",
    "   - So use -->  tensor of rank 5  (but the ambiguous notation 5D tensor is used loosely)"
   ]
  },
  {
   "cell_type": "markdown",
   "metadata": {},
   "source": [
    "### Matrices\n",
    "- An array of vectors is a matrix, or 2D tensor. \n",
    "- A matrix has two axes (rows and columns)"
   ]
  },
  {
   "cell_type": "code",
   "execution_count": 9,
   "metadata": {},
   "outputs": [],
   "source": [
    "x = np.array([[51, 70, 2, 32, 3],\n",
    "        [69, 7, 3, 35, 10],\n",
    "        [1, 8, 4, 6, 9]])"
   ]
  },
  {
   "cell_type": "code",
   "execution_count": 10,
   "metadata": {},
   "outputs": [
    {
     "data": {
      "text/plain": [
       "array([[51, 70,  2, 32,  3],\n",
       "       [69,  7,  3, 35, 10],\n",
       "       [ 1,  8,  4,  6,  9]])"
      ]
     },
     "execution_count": 10,
     "metadata": {},
     "output_type": "execute_result"
    }
   ],
   "source": [
    "x"
   ]
  },
  {
   "cell_type": "code",
   "execution_count": 11,
   "metadata": {},
   "outputs": [
    {
     "data": {
      "text/plain": [
       "2"
      ]
     },
     "execution_count": 11,
     "metadata": {},
     "output_type": "execute_result"
    }
   ],
   "source": [
    "x.ndim"
   ]
  },
  {
   "cell_type": "markdown",
   "metadata": {},
   "source": [
    "#### About Matrices\n",
    "- the entries from the first axis are called the rows, \n",
    "- the entries from the second axis are called the columns"
   ]
  },
  {
   "cell_type": "markdown",
   "metadata": {},
   "source": [
    "### 3D tensors and above\n",
    "- 3D tensor --> pack matrices in a new array\n",
    "- So it's Cube of numbers"
   ]
  },
  {
   "cell_type": "code",
   "execution_count": 13,
   "metadata": {},
   "outputs": [],
   "source": [
    "x = np.array([\n",
    "        [[51, 70, 2, 32, 3],\n",
    "        [69, 7, 3, 35, 10],\n",
    "        [1, 8, 4, 6, 9]],\n",
    "    \n",
    "         [[51, 70, 2, 32, 3],\n",
    "        [69, 7, 3, 35, 10],\n",
    "        [1, 8, 4, 6, 9]],\n",
    "    \n",
    "        [[51, 70, 2, 32, 3],\n",
    "        [69, 7, 3, 35, 10],\n",
    "        [1, 8, 4, 6, 9]]\n",
    "    ])"
   ]
  },
  {
   "cell_type": "code",
   "execution_count": 14,
   "metadata": {},
   "outputs": [
    {
     "data": {
      "text/plain": [
       "array([[[51, 70,  2, 32,  3],\n",
       "        [69,  7,  3, 35, 10],\n",
       "        [ 1,  8,  4,  6,  9]],\n",
       "\n",
       "       [[51, 70,  2, 32,  3],\n",
       "        [69,  7,  3, 35, 10],\n",
       "        [ 1,  8,  4,  6,  9]],\n",
       "\n",
       "       [[51, 70,  2, 32,  3],\n",
       "        [69,  7,  3, 35, 10],\n",
       "        [ 1,  8,  4,  6,  9]]])"
      ]
     },
     "execution_count": 14,
     "metadata": {},
     "output_type": "execute_result"
    }
   ],
   "source": [
    "x"
   ]
  },
  {
   "cell_type": "code",
   "execution_count": 15,
   "metadata": {},
   "outputs": [
    {
     "data": {
      "text/plain": [
       "3"
      ]
     },
     "execution_count": 15,
     "metadata": {},
     "output_type": "execute_result"
    }
   ],
   "source": [
    "x.ndim"
   ]
  },
  {
   "cell_type": "markdown",
   "metadata": {},
   "source": [
    "#### About 3D tensors & above\n",
    "- 4D tensor --> By packing 3D tensors in an array,\n",
    "- So on.."
   ]
  },
  {
   "cell_type": "markdown",
   "metadata": {},
   "source": []
  },
  {
   "cell_type": "markdown",
   "metadata": {},
   "source": [
    "### Summary of Tensors\n",
    "- Number of axes (Rank)\n",
    "    - ndim in Python library (e.g. Numpy)\n",
    "- Shape\n",
    "    - describes how many dimensions the tensor has along each axis \n",
    "    - e.g matrix has shape (3, 5) -->tuple of integers\n",
    "- Data type \n",
    " - type of the data contained in the tensor (e.g. float32, int32, float64, etc). Rarely char (but no strings)\n",
    " - referred as dtype (e.g numpy library)"
   ]
  },
  {
   "cell_type": "markdown",
   "metadata": {},
   "source": [
    "#### Little bit about data type"
   ]
  },
  {
   "cell_type": "code",
   "execution_count": 24,
   "metadata": {},
   "outputs": [],
   "source": [
    "a = np.array([1,4,5]) "
   ]
  },
  {
   "cell_type": "code",
   "execution_count": 25,
   "metadata": {},
   "outputs": [
    {
     "name": "stdout",
     "output_type": "stream",
     "text": [
      "type is:  <class 'numpy.ndarray'>\n",
      "dtype is:  int32\n"
     ]
    }
   ],
   "source": [
    "print(\"type is: \",type(a)) \n",
    "print(\"dtype is: \",a.dtype) "
   ]
  },
  {
   "cell_type": "markdown",
   "metadata": {},
   "source": [
    "### ^^^^^^^^^^^^^^^^^^^^^^^^^^^^^^^^^^^^"
   ]
  },
  {
   "cell_type": "markdown",
   "metadata": {},
   "source": [
    "## Tensor Operations\n",
    " - Element-wise operations (e.g. add)\n",
    " - Addition of different shaped tensors\n",
    " - dot product\n",
    " - reshaping"
   ]
  },
  {
   "cell_type": "markdown",
   "metadata": {},
   "source": [
    "#### Element-wise operations \n",
    "- Add, Subtraction etc"
   ]
  },
  {
   "cell_type": "code",
   "execution_count": 1,
   "metadata": {},
   "outputs": [],
   "source": [
    "#import numpy\n",
    "import numpy as np"
   ]
  },
  {
   "cell_type": "code",
   "execution_count": 61,
   "metadata": {},
   "outputs": [],
   "source": [
    "def my_add(x, y):\n",
    "    assert len(x.shape) == 2\n",
    "    assert x.shape == y.shape      #x , y --> 2D numpy tensors\n",
    "    \n",
    "    x = x.copy()                  #avoids overwriting the input tensor\n",
    "\n",
    "    for i in range(x.shape[0]):\n",
    "        for j in range(x.shape[1]):\n",
    "            x[i, j] = x[i, j] + y[i, j]\n",
    "    return x"
   ]
  },
  {
   "cell_type": "code",
   "execution_count": 62,
   "metadata": {},
   "outputs": [],
   "source": [
    "x = np.array([[5.2, 78, 2, 34, 0],\n",
    "[6, 79, 3, 35, 1],\n",
    "[7, 80, 4, 36, 2]])"
   ]
  },
  {
   "cell_type": "code",
   "execution_count": 44,
   "metadata": {},
   "outputs": [
    {
     "data": {
      "text/plain": [
       "2"
      ]
     },
     "execution_count": 44,
     "metadata": {},
     "output_type": "execute_result"
    }
   ],
   "source": [
    "x.ndim"
   ]
  },
  {
   "cell_type": "code",
   "execution_count": 45,
   "metadata": {},
   "outputs": [
    {
     "data": {
      "text/plain": [
       "3"
      ]
     },
     "execution_count": 45,
     "metadata": {},
     "output_type": "execute_result"
    }
   ],
   "source": [
    "x.shape[0]"
   ]
  },
  {
   "cell_type": "code",
   "execution_count": 31,
   "metadata": {},
   "outputs": [
    {
     "data": {
      "text/plain": [
       "5"
      ]
     },
     "execution_count": 31,
     "metadata": {},
     "output_type": "execute_result"
    }
   ],
   "source": [
    "x.shape[1]"
   ]
  },
  {
   "cell_type": "code",
   "execution_count": 32,
   "metadata": {},
   "outputs": [],
   "source": [
    "r = x.shape"
   ]
  },
  {
   "cell_type": "code",
   "execution_count": 34,
   "metadata": {},
   "outputs": [
    {
     "data": {
      "text/plain": [
       "tuple"
      ]
     },
     "execution_count": 34,
     "metadata": {},
     "output_type": "execute_result"
    }
   ],
   "source": [
    "type(r)"
   ]
  },
  {
   "cell_type": "code",
   "execution_count": 33,
   "metadata": {},
   "outputs": [
    {
     "name": "stdout",
     "output_type": "stream",
     "text": [
      "3 5\n"
     ]
    }
   ],
   "source": [
    "print(r[0], r[1])"
   ]
  },
  {
   "cell_type": "code",
   "execution_count": 63,
   "metadata": {},
   "outputs": [],
   "source": [
    "y = np.array([[4, 2, 1, 3, 0],\n",
    "[6, 1, 3, 5, 2],\n",
    "[7, 8, 4, 6, 2]])"
   ]
  },
  {
   "cell_type": "code",
   "execution_count": 53,
   "metadata": {},
   "outputs": [
    {
     "data": {
      "text/plain": [
       "2"
      ]
     },
     "execution_count": 53,
     "metadata": {},
     "output_type": "execute_result"
    }
   ],
   "source": [
    "y.ndim"
   ]
  },
  {
   "cell_type": "code",
   "execution_count": 64,
   "metadata": {},
   "outputs": [],
   "source": [
    "z = my_add(x,y)"
   ]
  },
  {
   "cell_type": "code",
   "execution_count": 65,
   "metadata": {},
   "outputs": [
    {
     "data": {
      "text/plain": [
       "array([[ 9.2, 80. ,  3. , 37. ,  0. ],\n",
       "       [12. , 80. ,  6. , 40. ,  3. ],\n",
       "       [14. , 88. ,  8. , 42. ,  4. ]])"
      ]
     },
     "execution_count": 65,
     "metadata": {},
     "output_type": "execute_result"
    }
   ],
   "source": [
    "z"
   ]
  },
  {
   "cell_type": "markdown",
   "metadata": {},
   "source": [
    "### Using numpy array"
   ]
  },
  {
   "cell_type": "code",
   "execution_count": 66,
   "metadata": {},
   "outputs": [],
   "source": [
    "#Add operation using numpy\n",
    "\n",
    "z = x + y"
   ]
  },
  {
   "cell_type": "code",
   "execution_count": 67,
   "metadata": {},
   "outputs": [
    {
     "data": {
      "text/plain": [
       "array([[ 9.2, 80. ,  3. , 37. ,  0. ],\n",
       "       [12. , 80. ,  6. , 40. ,  3. ],\n",
       "       [14. , 88. ,  8. , 42. ,  4. ]])"
      ]
     },
     "execution_count": 67,
     "metadata": {},
     "output_type": "execute_result"
    }
   ],
   "source": [
    "z"
   ]
  },
  {
   "cell_type": "code",
   "execution_count": 68,
   "metadata": {},
   "outputs": [],
   "source": [
    "#Set elements less than a particular value to max\n",
    "z = np.maximum(y, 5.)"
   ]
  },
  {
   "cell_type": "code",
   "execution_count": 69,
   "metadata": {},
   "outputs": [
    {
     "data": {
      "text/plain": [
       "array([[5., 5., 5., 5., 5.],\n",
       "       [6., 5., 5., 5., 5.],\n",
       "       [7., 8., 5., 6., 5.]])"
      ]
     },
     "execution_count": 69,
     "metadata": {},
     "output_type": "execute_result"
    }
   ],
   "source": [
    "z"
   ]
  },
  {
   "cell_type": "markdown",
   "metadata": {},
   "source": [
    "### Adding dissimilar tensors\n",
    "\n",
    "Consider X with shape (32, 10) and y with shape (10,). \n",
    "\n",
    "First, we add an empty first axis to y, whose shape becomes (1, 10). \n",
    "\n",
    "Then, we repeat y, 32 times alongside this new axis, so that we end up with a tensor Y with shape\n",
    "(32, 10), where Y[i, :] == y for i in range(0, 32). \n",
    "\n",
    "\n",
    "(Note: In terms of implementation, no new 2D tensor is created, because that would be\n",
    "terribly inefficient. The repetition operation is entirely virtual: it happens at the algorithmic\n",
    "level rather than at the memory level.)"
   ]
  },
  {
   "cell_type": "code",
   "execution_count": 70,
   "metadata": {},
   "outputs": [],
   "source": [
    "def my_add_matrix_and_vector(x, y):\n",
    "    assert   len(x.shape) == 2\n",
    "    assert   len(y.shape) == 1\n",
    "    assert x.shape[1] == y.shape[0]\n",
    "    \n",
    "    x = x.copy()\n",
    "    for i in range(x.shape[0]):\n",
    "        for j in range(x.shape[1]):\n",
    "            x[i, j] = x[i, j] + y[j]\n",
    "    return x"
   ]
  },
  {
   "cell_type": "code",
   "execution_count": 71,
   "metadata": {},
   "outputs": [],
   "source": [
    "x = np.array([[5.2, 78, 2, 34, 0],\n",
    "[6, 79, 3, 35, 1],\n",
    "[7, 80, 4, 36, 2]])"
   ]
  },
  {
   "cell_type": "code",
   "execution_count": 72,
   "metadata": {},
   "outputs": [
    {
     "data": {
      "text/plain": [
       "2"
      ]
     },
     "execution_count": 72,
     "metadata": {},
     "output_type": "execute_result"
    }
   ],
   "source": [
    "x.ndim   #len(x.shape)"
   ]
  },
  {
   "cell_type": "code",
   "execution_count": 73,
   "metadata": {},
   "outputs": [],
   "source": [
    "y = np.array([1,2,3,1,2])"
   ]
  },
  {
   "cell_type": "code",
   "execution_count": 74,
   "metadata": {},
   "outputs": [
    {
     "data": {
      "text/plain": [
       "1"
      ]
     },
     "execution_count": 74,
     "metadata": {},
     "output_type": "execute_result"
    }
   ],
   "source": [
    "y.ndim      #len(y.shape)"
   ]
  },
  {
   "cell_type": "code",
   "execution_count": 75,
   "metadata": {},
   "outputs": [],
   "source": [
    "z  = my_add_matrix_and_vector(x,y)"
   ]
  },
  {
   "cell_type": "code",
   "execution_count": 76,
   "metadata": {},
   "outputs": [
    {
     "data": {
      "text/plain": [
       "array([[ 6.2, 80. ,  5. , 35. ,  2. ],\n",
       "       [ 7. , 81. ,  6. , 36. ,  3. ],\n",
       "       [ 8. , 82. ,  7. , 37. ,  4. ]])"
      ]
     },
     "execution_count": 76,
     "metadata": {},
     "output_type": "execute_result"
    }
   ],
   "source": [
    "z"
   ]
  },
  {
   "cell_type": "code",
   "execution_count": 77,
   "metadata": {},
   "outputs": [],
   "source": [
    "a = np.random.random((1, 2, 3, 10))\n"
   ]
  },
  {
   "cell_type": "code",
   "execution_count": 78,
   "metadata": {},
   "outputs": [
    {
     "data": {
      "text/plain": [
       "4"
      ]
     },
     "execution_count": 78,
     "metadata": {},
     "output_type": "execute_result"
    }
   ],
   "source": [
    "a.ndim"
   ]
  },
  {
   "cell_type": "code",
   "execution_count": 79,
   "metadata": {},
   "outputs": [
    {
     "data": {
      "text/plain": [
       "array([[[[0.6879327 , 0.8127683 , 0.71610136, 0.30892117, 0.4262383 ,\n",
       "          0.29657382, 0.43176568, 0.91820337, 0.15635607, 0.10944801],\n",
       "         [0.52958294, 0.49380278, 0.89113152, 0.52429444, 0.80312166,\n",
       "          0.12741533, 0.1017671 , 0.14724887, 0.59295321, 0.75999495],\n",
       "         [0.80040736, 0.45786883, 0.35533269, 0.00293199, 0.67123464,\n",
       "          0.58153465, 0.4775209 , 0.00836018, 0.34592725, 0.01266709]],\n",
       "\n",
       "        [[0.38973986, 0.9640342 , 0.39487593, 0.21431064, 0.03562499,\n",
       "          0.14028533, 0.83507075, 0.67410949, 0.51092346, 0.7310739 ],\n",
       "         [0.83448165, 0.40471807, 0.56328339, 0.53169478, 0.73503138,\n",
       "          0.96149606, 0.28121189, 0.65703504, 0.88548414, 0.16971476],\n",
       "         [0.323954  , 0.95807326, 0.7135679 , 0.16298144, 0.80195579,\n",
       "          0.79407793, 0.9792558 , 0.18881872, 0.04458517, 0.99573057]]]])"
      ]
     },
     "execution_count": 79,
     "metadata": {},
     "output_type": "execute_result"
    }
   ],
   "source": [
    "a"
   ]
  },
  {
   "cell_type": "code",
   "execution_count": 81,
   "metadata": {},
   "outputs": [],
   "source": [
    "b = np.random.random((3, 10))\n"
   ]
  },
  {
   "cell_type": "code",
   "execution_count": 82,
   "metadata": {},
   "outputs": [
    {
     "data": {
      "text/plain": [
       "array([[0.11170256, 0.77074418, 0.50610967, 0.74404778, 0.09220491,\n",
       "        0.53332396, 0.99522618, 0.00804618, 0.8776228 , 0.82411369],\n",
       "       [0.24273142, 0.10596559, 0.53092636, 0.27794606, 0.86283134,\n",
       "        0.42517119, 0.32468711, 0.10946031, 0.29859451, 0.44893551],\n",
       "       [0.18935417, 0.52903433, 0.77830448, 0.73392248, 0.75456839,\n",
       "        0.73160941, 0.75748902, 0.79040901, 0.13253271, 0.91367937]])"
      ]
     },
     "execution_count": 82,
     "metadata": {},
     "output_type": "execute_result"
    }
   ],
   "source": [
    "b"
   ]
  },
  {
   "cell_type": "code",
   "execution_count": 83,
   "metadata": {},
   "outputs": [],
   "source": [
    "c = np.maximum(a, b)"
   ]
  },
  {
   "cell_type": "code",
   "execution_count": 84,
   "metadata": {},
   "outputs": [
    {
     "data": {
      "text/plain": [
       "array([[[[0.6879327 , 0.8127683 , 0.71610136, 0.74404778, 0.4262383 ,\n",
       "          0.53332396, 0.99522618, 0.91820337, 0.8776228 , 0.82411369],\n",
       "         [0.52958294, 0.49380278, 0.89113152, 0.52429444, 0.86283134,\n",
       "          0.42517119, 0.32468711, 0.14724887, 0.59295321, 0.75999495],\n",
       "         [0.80040736, 0.52903433, 0.77830448, 0.73392248, 0.75456839,\n",
       "          0.73160941, 0.75748902, 0.79040901, 0.34592725, 0.91367937]],\n",
       "\n",
       "        [[0.38973986, 0.9640342 , 0.50610967, 0.74404778, 0.09220491,\n",
       "          0.53332396, 0.99522618, 0.67410949, 0.8776228 , 0.82411369],\n",
       "         [0.83448165, 0.40471807, 0.56328339, 0.53169478, 0.86283134,\n",
       "          0.96149606, 0.32468711, 0.65703504, 0.88548414, 0.44893551],\n",
       "         [0.323954  , 0.95807326, 0.77830448, 0.73392248, 0.80195579,\n",
       "          0.79407793, 0.9792558 , 0.79040901, 0.13253271, 0.99573057]]]])"
      ]
     },
     "execution_count": 84,
     "metadata": {},
     "output_type": "execute_result"
    }
   ],
   "source": [
    "c"
   ]
  },
  {
   "cell_type": "markdown",
   "metadata": {},
   "source": [
    "### Dot Product "
   ]
  },
  {
   "cell_type": "code",
   "execution_count": 85,
   "metadata": {},
   "outputs": [],
   "source": [
    "def my_vector_dot(x, y):\n",
    "    assert len(x.shape) == 1\n",
    "    assert len(y.shape) == 1\n",
    "    assert x.shape[0] == y.shape[0]\n",
    "\n",
    "    z = 0.\n",
    "    for i in range(x.shape[0]):\n",
    "        z = z + x[i] * y[i]\n",
    "    return z"
   ]
  },
  {
   "cell_type": "code",
   "execution_count": 86,
   "metadata": {},
   "outputs": [],
   "source": [
    "a = np.array([5,2,3,4,6])"
   ]
  },
  {
   "cell_type": "code",
   "execution_count": 87,
   "metadata": {},
   "outputs": [],
   "source": [
    "b = np.array([3,2,4,1,5])"
   ]
  },
  {
   "cell_type": "code",
   "execution_count": 88,
   "metadata": {},
   "outputs": [],
   "source": [
    "c = my_vector_dot(a,b)"
   ]
  },
  {
   "cell_type": "code",
   "execution_count": 89,
   "metadata": {},
   "outputs": [
    {
     "data": {
      "text/plain": [
       "65.0"
      ]
     },
     "execution_count": 89,
     "metadata": {},
     "output_type": "execute_result"
    }
   ],
   "source": [
    "c"
   ]
  },
  {
   "cell_type": "code",
   "execution_count": 90,
   "metadata": {},
   "outputs": [],
   "source": [
    "c = np.dot(a, b)"
   ]
  },
  {
   "cell_type": "code",
   "execution_count": 91,
   "metadata": {},
   "outputs": [
    {
     "data": {
      "text/plain": [
       "65"
      ]
     },
     "execution_count": 91,
     "metadata": {},
     "output_type": "execute_result"
    }
   ],
   "source": [
    "c"
   ]
  },
  {
   "cell_type": "code",
   "execution_count": 92,
   "metadata": {},
   "outputs": [],
   "source": [
    "def my_matrix_vector_dot(x, y):\n",
    "    assert len(x.shape) == 2\n",
    "    assert len(y.shape) == 1\n",
    "    assert x.shape[1] == y.shape[0]\n",
    "\n",
    "    z = np.zeros(x.shape[0])\n",
    "    for i in range(x.shape[0]):\n",
    "        for j in range(x.shape[1]):\n",
    "            z[i] = z[i]  + x[i, j] * y[j]\n",
    "    return z"
   ]
  },
  {
   "cell_type": "code",
   "execution_count": 93,
   "metadata": {},
   "outputs": [],
   "source": [
    "a = np.array([[5, 78, 2, 34, 0],\n",
    "[6, 79, 3, 35, 1],\n",
    "[7, 80, 4, 36, 2]])"
   ]
  },
  {
   "cell_type": "code",
   "execution_count": 94,
   "metadata": {},
   "outputs": [],
   "source": [
    "b = np.array([3,2,4,1,5])"
   ]
  },
  {
   "cell_type": "code",
   "execution_count": 95,
   "metadata": {},
   "outputs": [],
   "source": [
    "c = my_matrix_vector_dot(a,b)"
   ]
  },
  {
   "cell_type": "code",
   "execution_count": 97,
   "metadata": {},
   "outputs": [
    {
     "data": {
      "text/plain": [
       "array([213., 228., 243.])"
      ]
     },
     "execution_count": 97,
     "metadata": {},
     "output_type": "execute_result"
    }
   ],
   "source": [
    "c"
   ]
  },
  {
   "cell_type": "code",
   "execution_count": 100,
   "metadata": {},
   "outputs": [],
   "source": [
    "def my_matrix_dot(x, y):\n",
    "    assert len(x.shape) == 2\n",
    "    assert len(y.shape) == 2\n",
    "    assert x.shape[1] == y.shape[0]\n",
    "\n",
    "    z = np.zeros((x.shape[0], y.shape[1]))\n",
    "    for i in range(x.shape[0]):\n",
    "        for j in range(y.shape[1]):\n",
    "            row_x = x[i, :]\n",
    "            column_y = y[:, j]\n",
    "            z[i, j] = my_vector_dot(row_x, column_y)\n",
    "    return z"
   ]
  },
  {
   "cell_type": "code",
   "execution_count": 101,
   "metadata": {},
   "outputs": [],
   "source": [
    "a = np.array([[5, 7, 2, 34, 0],\n",
    "[6, 7, 3, 35, 1],\n",
    "[7, 8, 4, 36, 2]])"
   ]
  },
  {
   "cell_type": "code",
   "execution_count": 102,
   "metadata": {},
   "outputs": [],
   "source": [
    "b = np.array([\n",
    "    [4, 2, 1],\n",
    "    [6, 1, 3],\n",
    "    [7, 8, 4],\n",
    "    [3, 4, 5],\n",
    "    [2, 2, 2]\n",
    "    ])"
   ]
  },
  {
   "cell_type": "code",
   "execution_count": 103,
   "metadata": {},
   "outputs": [],
   "source": [
    "c = my_matrix_dot(a,b)"
   ]
  },
  {
   "cell_type": "code",
   "execution_count": 104,
   "metadata": {},
   "outputs": [
    {
     "data": {
      "text/plain": [
       "array([[178., 169., 204.],\n",
       "       [194., 185., 216.],\n",
       "       [216., 202., 231.]])"
      ]
     },
     "execution_count": 104,
     "metadata": {},
     "output_type": "execute_result"
    }
   ],
   "source": [
    "c"
   ]
  },
  {
   "cell_type": "markdown",
   "metadata": {},
   "source": [
    "### Reshaping"
   ]
  },
  {
   "cell_type": "code",
   "execution_count": 105,
   "metadata": {},
   "outputs": [],
   "source": [
    "x = np.array([[0.2, 1.1],\n",
    "        [2.4, 3.5],\n",
    "        [4.1, 5.3]])"
   ]
  },
  {
   "cell_type": "code",
   "execution_count": 106,
   "metadata": {},
   "outputs": [
    {
     "data": {
      "text/plain": [
       "array([[0.2, 1.1],\n",
       "       [2.4, 3.5],\n",
       "       [4.1, 5.3]])"
      ]
     },
     "execution_count": 106,
     "metadata": {},
     "output_type": "execute_result"
    }
   ],
   "source": [
    "x"
   ]
  },
  {
   "cell_type": "code",
   "execution_count": 107,
   "metadata": {},
   "outputs": [
    {
     "name": "stdout",
     "output_type": "stream",
     "text": [
      "(3, 2)\n"
     ]
    }
   ],
   "source": [
    "print(x.shape)"
   ]
  },
  {
   "cell_type": "code",
   "execution_count": 108,
   "metadata": {},
   "outputs": [],
   "source": [
    "#reshape\n",
    "\n",
    "x = x.reshape((6,1))"
   ]
  },
  {
   "cell_type": "code",
   "execution_count": 109,
   "metadata": {},
   "outputs": [
    {
     "data": {
      "text/plain": [
       "(6, 1)"
      ]
     },
     "execution_count": 109,
     "metadata": {},
     "output_type": "execute_result"
    }
   ],
   "source": [
    "x.shape"
   ]
  },
  {
   "cell_type": "code",
   "execution_count": 110,
   "metadata": {},
   "outputs": [
    {
     "data": {
      "text/plain": [
       "array([[0.2],\n",
       "       [1.1],\n",
       "       [2.4],\n",
       "       [3.5],\n",
       "       [4.1],\n",
       "       [5.3]])"
      ]
     },
     "execution_count": 110,
     "metadata": {},
     "output_type": "execute_result"
    }
   ],
   "source": [
    "x"
   ]
  },
  {
   "cell_type": "code",
   "execution_count": 111,
   "metadata": {},
   "outputs": [],
   "source": [
    "x = x.reshape((2, 3))"
   ]
  },
  {
   "cell_type": "code",
   "execution_count": 112,
   "metadata": {},
   "outputs": [
    {
     "data": {
      "text/plain": [
       "(2, 3)"
      ]
     },
     "execution_count": 112,
     "metadata": {},
     "output_type": "execute_result"
    }
   ],
   "source": [
    "x.shape"
   ]
  },
  {
   "cell_type": "code",
   "execution_count": 113,
   "metadata": {},
   "outputs": [
    {
     "data": {
      "text/plain": [
       "array([[0.2, 1.1, 2.4],\n",
       "       [3.5, 4.1, 5.3]])"
      ]
     },
     "execution_count": 113,
     "metadata": {},
     "output_type": "execute_result"
    }
   ],
   "source": [
    "x"
   ]
  },
  {
   "cell_type": "code",
   "execution_count": 114,
   "metadata": {},
   "outputs": [],
   "source": [
    "#Transpose\n",
    "\n",
    "x = np.zeros((300, 20))  #create all zeroes matrix "
   ]
  },
  {
   "cell_type": "code",
   "execution_count": 115,
   "metadata": {},
   "outputs": [
    {
     "data": {
      "text/plain": [
       "(300, 20)"
      ]
     },
     "execution_count": 115,
     "metadata": {},
     "output_type": "execute_result"
    }
   ],
   "source": [
    "x.shape\n"
   ]
  },
  {
   "cell_type": "code",
   "execution_count": 116,
   "metadata": {},
   "outputs": [],
   "source": [
    "#now transpose \n",
    "\n",
    "y = np.transpose(x)"
   ]
  },
  {
   "cell_type": "code",
   "execution_count": 117,
   "metadata": {},
   "outputs": [
    {
     "data": {
      "text/plain": [
       "(20, 300)"
      ]
     },
     "execution_count": 117,
     "metadata": {},
     "output_type": "execute_result"
    }
   ],
   "source": [
    "y.shape"
   ]
  },
  {
   "cell_type": "markdown",
   "metadata": {},
   "source": [
    "### ^^^^^^^^^^^^^^^^^^^^^^^^^^^^^^^^^^^^^^^^^^^^^^^^^^"
   ]
  },
  {
   "cell_type": "markdown",
   "metadata": {},
   "source": [
    "### RELU"
   ]
  },
  {
   "cell_type": "code",
   "execution_count": 2,
   "metadata": {},
   "outputs": [],
   "source": [
    "#relu(x) is max(x, 0)\n",
    "\n",
    "def my_relu(x):\n",
    "    assert len(x.shape) == 2\n",
    "\n",
    "    x = x.copy()\n",
    "    for i in range(x.shape[0]):\n",
    "        for j in range(x.shape[1]):\n",
    "            x[i, j] = max(x[i, j], 0)\n",
    "    return x"
   ]
  },
  {
   "cell_type": "code",
   "execution_count": 3,
   "metadata": {},
   "outputs": [],
   "source": [
    "y = np.array([[-3.2, 78, 2, 34, 0],\n",
    "[6, 79, 3, -35, 1],\n",
    "[7, 80, 4, 36, -2.8]])"
   ]
  },
  {
   "cell_type": "code",
   "execution_count": 4,
   "metadata": {},
   "outputs": [],
   "source": [
    "z = my_relu(y)"
   ]
  },
  {
   "cell_type": "code",
   "execution_count": 5,
   "metadata": {},
   "outputs": [
    {
     "data": {
      "text/plain": [
       "array([[ 0., 78.,  2., 34.,  0.],\n",
       "       [ 6., 79.,  3.,  0.,  1.],\n",
       "       [ 7., 80.,  4., 36.,  0.]])"
      ]
     },
     "execution_count": 5,
     "metadata": {},
     "output_type": "execute_result"
    }
   ],
   "source": [
    "z "
   ]
  },
  {
   "cell_type": "code",
   "execution_count": null,
   "metadata": {},
   "outputs": [],
   "source": [
    "names = {\"Steve\", \"Rick\", \"Negan\"}\n",
    "names2 = names\n",
    "\n",
    "# adding a new element in the new set\n",
    "names2.add(\"Glenn\")\n",
    "\n",
    "# removing an element from the old set\n",
    "names.remove(\"Negan\")\n",
    "\n",
    "\n",
    "print(\"Old Set is:\", names)\n",
    "print(\"New Set is:\", names2)"
   ]
  },
  {
   "cell_type": "code",
   "execution_count": null,
   "metadata": {},
   "outputs": [],
   "source": [
    "# A Set of names\n",
    "names = {\"Steve\", \"Rick\", \"Negan\"}\n",
    "\n",
    "# copying using the copy() method\n",
    "names2 = names.copy()\n",
    "\n",
    "# adding \"Glenn\" to the new set\n",
    "names2.add(\"Glenn\")\n",
    "\n",
    "# removing \"Negan\" from the old set\n",
    "names.remove(\"Negan\")\n",
    "\n",
    "# displaying both the sets\n",
    "print(\"Old Set is:\", names)\n",
    "print(\"New Set is:\", names2)"
   ]
  },
  {
   "cell_type": "code",
   "execution_count": null,
   "metadata": {},
   "outputs": [],
   "source": []
  }
 ],
 "metadata": {
  "kernelspec": {
   "display_name": "Python 3 (ipykernel)",
   "language": "python",
   "name": "python3"
  },
  "language_info": {
   "codemirror_mode": {
    "name": "ipython",
    "version": 3
   },
   "file_extension": ".py",
   "mimetype": "text/x-python",
   "name": "python",
   "nbconvert_exporter": "python",
   "pygments_lexer": "ipython3",
   "version": "3.11.7"
  }
 },
 "nbformat": 4,
 "nbformat_minor": 4
}
